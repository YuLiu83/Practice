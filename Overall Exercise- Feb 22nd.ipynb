{
 "cells": [
  {
   "cell_type": "code",
   "execution_count": 150,
   "metadata": {},
   "outputs": [
    {
     "data": {
      "text/plain": [
       "6"
      ]
     },
     "execution_count": 150,
     "metadata": {},
     "output_type": "execute_result"
    }
   ],
   "source": [
    "# quantify water can be held by a set of histogram bars\n",
    "a = [0, 1, 0, 2, 1, 0,1, 3, 2, 1, 2, 1]\n",
    "\n"
   ]
  },
  {
   "cell_type": "code",
   "execution_count": null,
   "metadata": {},
   "outputs": [],
   "source": []
  },
  {
   "cell_type": "code",
   "execution_count": 59,
   "metadata": {},
   "outputs": [
    {
     "data": {
      "text/plain": [
       "[[1], [1, 1], [1, 2, 1], [1, 3, 3, 1], [1, 4, 6, 4, 1], [1, 5, 10, 10, 5, 1]]"
      ]
     },
     "execution_count": 59,
     "metadata": {},
     "output_type": "execute_result"
    }
   ],
   "source": [
    "# case 1: create pascal triangle with k rows\n",
    "\n",
    "def pascal(k):\n",
    "    pas=[[1], [1,1]]\n",
    "    \n",
    "    for i in range(k-1):\n",
    "        middle=[]\n",
    "        for j in range(1, len(pas[-1])):\n",
    "            middle.append(pas[-1][j-1]+pas[-1][j])\n",
    "        pas.append([1]+middle+[1])\n",
    "        \n",
    "    return pas\n",
    "pascal(5)\n",
    "        "
   ]
  },
  {
   "cell_type": "code",
   "execution_count": null,
   "metadata": {},
   "outputs": [],
   "source": []
  },
  {
   "cell_type": "code",
   "execution_count": 72,
   "metadata": {},
   "outputs": [
    {
     "data": {
      "text/plain": [
       "4"
      ]
     },
     "execution_count": 72,
     "metadata": {},
     "output_type": "execute_result"
    }
   ],
   "source": [
    "# finding the longest subsection adds up to a certain # from a list\n",
    "shoplist=[2,1,5,1,2,1,3,1,1]\n",
    "walet=6\n",
    "\n",
    "def sub(shoplist, walet):\n",
    "    maxv=0\n",
    "    \n",
    "    for i in range(len(shoplist)):\n",
    "        total=0\n",
    "        length=0\n",
    "        for j in range(i, len(shoplist)):\n",
    "            if total+shoplist[j]>walet:\n",
    "                break\n",
    "            \n",
    "            total+=shoplist[j]\n",
    "            length+=1\n",
    "            maxv=max(maxv, length)\n",
    "    return maxv\n",
    "\n",
    "sub(shoplist, walet)"
   ]
  },
  {
   "cell_type": "code",
   "execution_count": null,
   "metadata": {},
   "outputs": [],
   "source": []
  },
  {
   "cell_type": "code",
   "execution_count": 60,
   "metadata": {},
   "outputs": [
    {
     "data": {
      "text/plain": [
       "6"
      ]
     },
     "execution_count": 60,
     "metadata": {},
     "output_type": "execute_result"
    }
   ],
   "source": [
    "# 找该array相加得最大和的连续元素组成的sub-array.\n",
    "array=[-2,1,-3,4,-1,2,1,-5,4]\n",
    "\n",
    "def maxv(a):\n",
    "    mav=0\n",
    "    \n",
    "    for i in range(len(a)):\n",
    "        total=0\n",
    "        for j in range(i, len(a)):\n",
    "            total+=a[j]\n",
    "            mav=max(mav, total)\n",
    "    return mav\n",
    "maxv(array)"
   ]
  },
  {
   "cell_type": "code",
   "execution_count": null,
   "metadata": {},
   "outputs": [],
   "source": []
  },
  {
   "cell_type": "code",
   "execution_count": null,
   "metadata": {},
   "outputs": [],
   "source": [
    "#return 长度为三的sub-list, 哪一个sublist的sum 的值最大 "
   ]
  },
  {
   "cell_type": "code",
   "execution_count": null,
   "metadata": {},
   "outputs": [],
   "source": []
  },
  {
   "cell_type": "code",
   "execution_count": 128,
   "metadata": {},
   "outputs": [
    {
     "data": {
      "text/plain": [
       "576"
      ]
     },
     "execution_count": 128,
     "metadata": {},
     "output_type": "execute_result"
    }
   ],
   "source": [
    "# 3.1 sub-array with lengh k, provides the largest product\n",
    "a=[1, 5, 9, 8, 2, 4, 1, 8, 8, 9]\n",
    "k=3\n",
    "\n",
    "def prod(a, k):\n",
    "    maxprod=0\n",
    "    for i in range(len(a)-k+1):\n",
    "        prod=1\n",
    "        for j in range(k):\n",
    "            prod=prod*a[i+j]\n",
    "        maxprod=max(maxprod, prod)\n",
    "    return maxprod\n",
    "prod(a, k)\n"
   ]
  },
  {
   "cell_type": "code",
   "execution_count": null,
   "metadata": {},
   "outputs": [],
   "source": []
  },
  {
   "cell_type": "code",
   "execution_count": 65,
   "metadata": {},
   "outputs": [
    {
     "data": {
      "text/plain": [
       "[[1, 1], [5, 5], [8, 8, 8, 9, 10]]"
      ]
     },
     "execution_count": 65,
     "metadata": {},
     "output_type": "execute_result"
    }
   ],
   "source": [
    "# 3.3: dividing a list into sub lists:\n",
    "# 下面的list, 若相邻元素差值>1 则另分组 \n",
    "\n",
    "a=[1,1, 2, 5, 6,8,8, 9, 10]\n",
    "\n",
    "def sub(a):\n",
    "    master=[]\n",
    "    holder=[]\n",
    "    for i in range(1,len(a)):\n",
    "        if a[i]-a[i-1]>1:\n",
    "            master.append(holder)\n",
    "            holder=[a[i]]\n",
    "        else:\n",
    "            holder.append(a[i-1])\n",
    "          \n",
    "    holder.append(a[i])\n",
    "    master.append(holder)\n",
    "    return master\n",
    "sub(a)\n"
   ]
  },
  {
   "cell_type": "code",
   "execution_count": null,
   "metadata": {},
   "outputs": [],
   "source": []
  },
  {
   "cell_type": "code",
   "execution_count": 130,
   "metadata": {},
   "outputs": [
    {
     "data": {
      "text/plain": [
       "5"
      ]
     },
     "execution_count": 130,
     "metadata": {},
     "output_type": "execute_result"
    }
   ],
   "source": [
    "# case 5:  best time to buy and sell stock\n",
    "# list中 后面单位减去前面的单位相差最大的一对儿.\n",
    "a=[7,1,5,3,6,4]\n",
    "\n",
    "\n",
    "def best(a):\n",
    "    maxv=0\n",
    "    for i in range(len(a)):\n",
    "        \n",
    "        for j in range(i+1, len(a)):\n",
    "            dif=a[j]-a[i]\n",
    "            maxv=max(maxv, dif)\n",
    "    return maxv\n",
    "best(a)"
   ]
  },
  {
   "cell_type": "code",
   "execution_count": null,
   "metadata": {},
   "outputs": [],
   "source": [
    "# 可以多次买卖stock, 必须买一次卖一次。问到最后profit最大能为多少"
   ]
  },
  {
   "cell_type": "code",
   "execution_count": null,
   "metadata": {},
   "outputs": [],
   "source": []
  },
  {
   "cell_type": "code",
   "execution_count": 25,
   "metadata": {},
   "outputs": [
    {
     "data": {
      "text/plain": [
       "'a'"
      ]
     },
     "execution_count": 25,
     "metadata": {},
     "output_type": "execute_result"
    }
   ],
   "source": [
    "# case 6: majority element - 发生超过n/2次数的element\n",
    "\n",
    "a=[2,2,1,1,1,2,2,'a','a','a','a','a','a','a','a','a']\n",
    "\n",
    "def major(a):\n",
    "    count={}\n",
    "    for i in a:\n",
    "        if i not in count:\n",
    "            count[i]=1\n",
    "        else:\n",
    "            count[i]+=1\n",
    "        if count[i]>len(a)/2:\n",
    "            return i\n",
    "major(a)\n",
    "\n",
    "\n",
    "# for m, n in count:\n",
    "#     if n> len(a)/2\n",
    "#     return m"
   ]
  },
  {
   "cell_type": "code",
   "execution_count": null,
   "metadata": {},
   "outputs": [],
   "source": []
  },
  {
   "cell_type": "code",
   "execution_count": null,
   "metadata": {},
   "outputs": [],
   "source": [
    "# case 9, 找 range 里的 missing value,\n",
    "a=[4,3,2,7,8,2,3,1]"
   ]
  },
  {
   "cell_type": "code",
   "execution_count": null,
   "metadata": {},
   "outputs": [],
   "source": []
  },
  {
   "cell_type": "code",
   "execution_count": null,
   "metadata": {},
   "outputs": [],
   "source": [
    "# case 10: 调整一个list中某一段儿的顺序. \n",
    "a=[2, 6, 4, 8, 10, 9, 15]"
   ]
  },
  {
   "cell_type": "code",
   "execution_count": null,
   "metadata": {},
   "outputs": [],
   "source": []
  },
  {
   "cell_type": "code",
   "execution_count": 134,
   "metadata": {},
   "outputs": [
    {
     "data": {
      "text/plain": [
       "[[1], [2, 3], [4, 5, 6], [7, 8, 9, 10]]"
      ]
     },
     "execution_count": 134,
     "metadata": {},
     "output_type": "execute_result"
    }
   ],
   "source": [
    "# case 11: 将一个list 递进的方式逐步break成小的 list\n",
    "a=[1,2,3,4,5,6,7,8,9,10]\n",
    "# output=[[1], [2,3], [4,5,6], [7,8,9,10]]\n",
    "\n",
    "def bre(a):\n",
    "    i=1\n",
    "    holder=[]\n",
    "    while a:\n",
    "        holder.append(a[:i])\n",
    "        a=a[i:]\n",
    "        i+=1\n",
    "    return holder\n",
    "bre(a)"
   ]
  },
  {
   "cell_type": "code",
   "execution_count": null,
   "metadata": {},
   "outputs": [],
   "source": []
  },
  {
   "cell_type": "code",
   "execution_count": null,
   "metadata": {},
   "outputs": [],
   "source": [
    "# case 11.2 List 的分割 - 面试\n",
    "# 要求将下列连续相隔不超过 1 的数字分在一组\n",
    "tickets=[2,3, 7,7, 8,13,13, 15,16, 17, 18]\n",
    "output=[[2,3], [7,7,8], [13,13],[15,16,17,18]]\n",
    "\n"
   ]
  },
  {
   "cell_type": "code",
   "execution_count": null,
   "metadata": {},
   "outputs": [],
   "source": []
  },
  {
   "cell_type": "code",
   "execution_count": 24,
   "metadata": {},
   "outputs": [
    {
     "data": {
      "text/plain": [
       "{2, 3, 5, 7}"
      ]
     },
     "execution_count": 24,
     "metadata": {},
     "output_type": "execute_result"
    }
   ],
   "source": [
    "# all prime numbers before n\n",
    "\n",
    "def prime(n):\n",
    "    noneprime=[]\n",
    "    for i in range(2,n):\n",
    "        for j in range(2, i-1):\n",
    "            if i%j==0:\n",
    "                noneprime.append(i)\n",
    "    return set(range(2,n))-set(noneprime)\n",
    "prime(9)\n",
    "        "
   ]
  },
  {
   "cell_type": "code",
   "execution_count": null,
   "metadata": {},
   "outputs": [],
   "source": []
  },
  {
   "cell_type": "code",
   "execution_count": 78,
   "metadata": {},
   "outputs": [
    {
     "data": {
      "text/plain": [
       "14"
      ]
     },
     "execution_count": 78,
     "metadata": {},
     "output_type": "execute_result"
    }
   ],
   "source": [
    "# 罗马数字转数字\n",
    "a='XIV'\n",
    "\n",
    "def rome(a):\n",
    "    roman={'I':1,'V':5,'X':10,'L':50,'C':100,'D':500,'M':1000}\n",
    "    holder=[]\n",
    "    for i in range(len(a)-1):\n",
    "        if roman[a[i]]>roman[a[i+1]]:\n",
    "            holder.append(roman[a[i]])\n",
    "        if roman[a[i]]<roman[a[i+1]]:\n",
    "            holder.append(-1*roman[a[i]])\n",
    "    holder.append(roman[a[i+1]])\n",
    "    return sum(holder)\n",
    "\n",
    "rome(a)"
   ]
  },
  {
   "cell_type": "code",
   "execution_count": null,
   "metadata": {},
   "outputs": [],
   "source": [
    "for num in range(1,21):\n",
    "    string = \"\"\n",
    "    if num % 3 == 0:\n",
    "        string = string + \"Fizz\"\n",
    "    if num % 5 == 0:\n",
    "        string = string + \"Buzz\"\n",
    "    if num % 5 != 0 and num % 3 != 0:\n",
    "        string = string + str(num)\n",
    "    print(string)"
   ]
  },
  {
   "cell_type": "code",
   "execution_count": 80,
   "metadata": {},
   "outputs": [
    {
     "data": {
      "text/plain": [
       "[1, 2, 'hi', 4, 'lo', 'hi', 7, 8, 'hi', 'lo']"
      ]
     },
     "execution_count": 80,
     "metadata": {},
     "output_type": "execute_result"
    }
   ],
   "source": [
    "# 能被三整除的数字用‘a'替换，能被5整除的数字用'b‘替换， 被3，5触的用'ab'替换\n",
    "a=[1,2,3,4,5,6,7,8,9, 10]\n",
    "\n",
    "def repla(a):\n",
    "    holder=[]\n",
    "    for i in a:\n",
    "        if i%3==0:\n",
    "            holder.append('hi')\n",
    "        elif i%5==0:\n",
    "            holder.append('lo')\n",
    "        else:\n",
    "            holder.append(i)\n",
    "    return holder\n",
    "repla(a)"
   ]
  },
  {
   "cell_type": "code",
   "execution_count": 173,
   "metadata": {},
   "outputs": [
    {
     "data": {
      "text/plain": [
       "['1',\n",
       " '2',\n",
       " 'hi',\n",
       " '4',\n",
       " 'ho',\n",
       " 'hi',\n",
       " '7',\n",
       " '8',\n",
       " 'hi',\n",
       " 'ho',\n",
       " '11',\n",
       " 'hi',\n",
       " '13',\n",
       " '14',\n",
       " 'hiho']"
      ]
     },
     "execution_count": 173,
     "metadata": {},
     "output_type": "execute_result"
    }
   ],
   "source": [
    "a=range(1, 16)\n",
    "\n",
    "def repla(a):\n",
    "    holder=[]\n",
    "    for i in a:\n",
    "        text=''\n",
    "        if i%3==0:\n",
    "            text+='hi'\n",
    "        if i%5==0:\n",
    "            text+='ho'\n",
    "        if i%3!=0 and i%5!=0:\n",
    "            text+=str(i)\n",
    "        \n",
    "        holder.append(text)\n",
    "            \n",
    "    return holder\n",
    "repla(a)"
   ]
  },
  {
   "cell_type": "code",
   "execution_count": 174,
   "metadata": {},
   "outputs": [
    {
     "data": {
      "text/plain": [
       "[1, 2, 'hi', 4, 'ho', 'hi', 7, 8, 'hi', 'ho', 11, 'hi', 13, 14, 'hiho']"
      ]
     },
     "execution_count": 174,
     "metadata": {},
     "output_type": "execute_result"
    }
   ],
   "source": [
    "a=range(1, 16)\n",
    "\n",
    "def repla(a):\n",
    "    holder=[]\n",
    "    for i in a:\n",
    "        if i%15==0:\n",
    "            holder.append('hiho')\n",
    "        elif i%5==0:\n",
    "            holder.append('ho')\n",
    "        elif i%3==0:\n",
    "            holder.append('hi')\n",
    "        else:\n",
    "            holder.append(i)\n",
    "            \n",
    "    return holder\n",
    "repla(a)"
   ]
  },
  {
   "cell_type": "code",
   "execution_count": 83,
   "metadata": {},
   "outputs": [
    {
     "data": {
      "text/plain": [
       "[1, 2, 13, 4, 25, 16, 7, 8, 19, 30, 45]"
      ]
     },
     "execution_count": 83,
     "metadata": {},
     "output_type": "execute_result"
    }
   ],
   "source": [
    "# 能被3除的数字+10， 被5除的数字+20， 被15除的数字+30\n",
    "a=[1,2,3,4,5,6,7,8,9, 10, 15]\n",
    "\n",
    "def repla(a):\n",
    "    holder=[]\n",
    "    for i in a:\n",
    "        store=0\n",
    "        if i%3==0:\n",
    "            store+=10\n",
    "        if i%5==0:\n",
    "            store+=20\n",
    "        holder.append(i+store)\n",
    "    return holder\n",
    "repla(a)"
   ]
  },
  {
   "cell_type": "code",
   "execution_count": null,
   "metadata": {},
   "outputs": [],
   "source": []
  },
  {
   "cell_type": "code",
   "execution_count": 4,
   "metadata": {},
   "outputs": [
    {
     "data": {
      "text/plain": [
       "True"
      ]
     },
     "execution_count": 4,
     "metadata": {},
     "output_type": "execute_result"
    }
   ],
   "source": [
    "# 4 找 paird 括号, 如果都成对儿 True, 不成对儿或空则 False\n",
    "a='{()}{}{'\n",
    "b='()()[]'\n",
    "\n",
    "def pairs(a):\n",
    "    dic={'{':'}', '[':']', '(':')'}\n",
    "    holder=[]\n",
    "    for i in range(len(a)):\n",
    "        if a[i] in dic.keys():\n",
    "            holder.append(a[i])\n",
    "        elif holder and a[i]==dic[holder[-1]]:\n",
    "            holder.pop()\n",
    "        else:\n",
    "            return False\n",
    "    if len(holder)==0:\n",
    "        return True\n",
    "    else:\n",
    "        return False\n",
    "pairs(b)\n"
   ]
  },
  {
   "cell_type": "code",
   "execution_count": null,
   "metadata": {},
   "outputs": [],
   "source": []
  },
  {
   "cell_type": "code",
   "execution_count": null,
   "metadata": {},
   "outputs": [],
   "source": [
    "# Remove the minimum number of invalid parentheses in order to make the input string valid. \n"
   ]
  },
  {
   "cell_type": "code",
   "execution_count": null,
   "metadata": {},
   "outputs": [],
   "source": []
  },
  {
   "cell_type": "code",
   "execution_count": 10,
   "metadata": {},
   "outputs": [
    {
     "data": {
      "text/plain": [
       "['(())(())']"
      ]
     },
     "execution_count": 10,
     "metadata": {},
     "output_type": "execute_result"
    }
   ],
   "source": [
    "# remove outmost ()\n",
    "a='((())(()))'\n",
    "def remove(a):\n",
    "    score=0\n",
    "    holder=[]\n",
    "    j=0\n",
    "    for i in range(len(a)):\n",
    "        if a[i]=='(':\n",
    "            score+=1\n",
    "        if a[i]==')':\n",
    "            score-=1\n",
    "        if score==0:\n",
    "            holder.append(a[j+1:i])\n",
    "            j=i+1\n",
    "    return holder\n",
    "remove(a)\n"
   ]
  },
  {
   "cell_type": "code",
   "execution_count": null,
   "metadata": {},
   "outputs": [],
   "source": []
  },
  {
   "cell_type": "code",
   "execution_count": 14,
   "metadata": {},
   "outputs": [
    {
     "data": {
      "text/plain": [
       "{25: 2, 10: 0, 5: 1, 1: 0}"
      ]
     },
     "execution_count": 14,
     "metadata": {},
     "output_type": "execute_result"
    }
   ],
   "source": [
    "# break changes\n",
    "coin=[25, 10, 5, 1]\n",
    "dollar=55\n",
    "\n",
    "def breakch(a ,b):\n",
    "    holder={}\n",
    "    for i in a:\n",
    "        count=b//i\n",
    "        b-=count*i\n",
    "        holder[i]=count\n",
    "    return holder\n",
    "breakch(coin, dollar)\n"
   ]
  },
  {
   "cell_type": "code",
   "execution_count": null,
   "metadata": {},
   "outputs": [],
   "source": []
  },
  {
   "cell_type": "code",
   "execution_count": 86,
   "metadata": {},
   "outputs": [
    {
     "data": {
      "text/plain": [
       "True"
      ]
     },
     "execution_count": 86,
     "metadata": {},
     "output_type": "execute_result"
    }
   ],
   "source": [
    "# check if the a # is the power of another number\n",
    "\n",
    "def power(a, b):\n",
    "    while a!=1:\n",
    "        if a%b!=0:\n",
    "            return False\n",
    "        else:\n",
    "            a=a/b\n",
    "    return True\n",
    "power(8,2)"
   ]
  },
  {
   "cell_type": "code",
   "execution_count": null,
   "metadata": {},
   "outputs": [],
   "source": []
  },
  {
   "cell_type": "code",
   "execution_count": 93,
   "metadata": {},
   "outputs": [
    {
     "data": {
      "text/plain": [
       "[10, 30, 60, 70]"
      ]
     },
     "execution_count": 93,
     "metadata": {},
     "output_type": "execute_result"
    }
   ],
   "source": [
    "# moving average and aggregated total\n",
    "x=[10, 20, 30, 10]\n",
    "\n",
    "def ma(x):\n",
    "    holder=[]\n",
    "    for i in range(len(x)-1):\n",
    "        holder.append((x[i]+x[i+1])/2)\n",
    "    return holder\n",
    "ma(x)\n",
    "\n",
    "def gt(x):\n",
    "    holder=[x[0]]\n",
    "    total=x[0]\n",
    "    for i in range(1, len(x)):\n",
    "        total+=x[i]\n",
    "        holder.append(total)\n",
    "    return holder\n",
    "gt(x)"
   ]
  },
  {
   "cell_type": "code",
   "execution_count": null,
   "metadata": {},
   "outputs": [],
   "source": []
  },
  {
   "cell_type": "code",
   "execution_count": 22,
   "metadata": {},
   "outputs": [
    {
     "data": {
      "text/plain": [
       "[(2, (-1, 1)), (3, (-2, -1)), (5, (2, 3))]"
      ]
     },
     "execution_count": 22,
     "metadata": {},
     "output_type": "execute_result"
    }
   ],
   "source": [
    "# find points closest to the origin.  \n",
    "\n",
    "points=[(-1, 1), (2,3), (-2,-1), (4,5)] #only works if it's set\n",
    "\n",
    "def point(a):\n",
    "    holder={}\n",
    "    for ele in a:\n",
    "        \n",
    "        holder[ele]=abs(ele[1])+abs(ele[0])\n",
    "    ranked=sorted(zip(holder.values(), holder.keys()))\n",
    "    return ranked[:3]\n",
    "\n",
    "point(points)   \n",
    "        \n",
    "#def closest(a, n):\n",
    "#    holder={}\n",
    "#    for ele in points:\n",
    " #       holder[ele]=(ele[0]**2+ele[1]**2)**0.5\n",
    " #   sort=sorted(zip(holder.values(), holder.keys()))\n",
    " #   return sort[0:n]\n",
    "#closest(points, 2)"
   ]
  },
  {
   "cell_type": "code",
   "execution_count": 38,
   "metadata": {},
   "outputs": [
    {
     "name": "stdout",
     "output_type": "stream",
     "text": [
      "-1\n",
      "2\n",
      "-2\n",
      "4\n",
      "0\n"
     ]
    }
   ],
   "source": [
    "points=[(-1, 1), (2,3), (-2,-1), (4,5), (0,0)]\n",
    "for i in range(len(points)):\n",
    "    print(points[i][0])"
   ]
  },
  {
   "cell_type": "code",
   "execution_count": 55,
   "metadata": {},
   "outputs": [
    {
     "data": {
      "text/plain": [
       "[(-1, 1), (0, 0)]"
      ]
     },
     "execution_count": 55,
     "metadata": {},
     "output_type": "execute_result"
    }
   ],
   "source": [
    "# find the closest two points\n",
    "points=[(-1, 1), (2,3), (-2,-1), (4,5), (0,0)]\n",
    "\n",
    "def close(a):\n",
    "    mindis=1000000\n",
    "    holder=[]\n",
    "    for i in range(len(a)-1):\n",
    "        for j in range(i+1, len(a)):\n",
    "            dist=abs(a[j][1]-a[i][1])+abs(a[j][0]-a[i][0])\n",
    "            if mindis>dist:\n",
    "                mindis=dist\n",
    "                holder=[a[i], a[j]]\n",
    "    return holder\n",
    "close(points)"
   ]
  },
  {
   "cell_type": "code",
   "execution_count": null,
   "metadata": {},
   "outputs": [],
   "source": []
  },
  {
   "cell_type": "code",
   "execution_count": null,
   "metadata": {},
   "outputs": [],
   "source": [
    "# find the closest 3 distances of any two points"
   ]
  },
  {
   "cell_type": "code",
   "execution_count": null,
   "metadata": {},
   "outputs": [],
   "source": []
  },
  {
   "cell_type": "code",
   "execution_count": 98,
   "metadata": {},
   "outputs": [
    {
     "data": {
      "text/plain": [
       "[(3, 'b'), (2, 'a')]"
      ]
     },
     "execution_count": 98,
     "metadata": {},
     "output_type": "execute_result"
    }
   ],
   "source": [
    "# find the top 2 occuring words\n",
    "word=['b', 'b', 'c', 'a', 'a', 'b']\n",
    "\n",
    "def most(a):\n",
    "    holder={}\n",
    "    for i in a:\n",
    "        if i not in holder:\n",
    "            holder[i]=1\n",
    "        else:\n",
    "            holder[i]+=1\n",
    "    ranked=sorted(zip(holder.values(), holder.keys()), reverse=True)\n",
    "    return ranked[:2]\n",
    "most(word)"
   ]
  },
  {
   "cell_type": "code",
   "execution_count": null,
   "metadata": {},
   "outputs": [],
   "source": []
  },
  {
   "cell_type": "code",
   "execution_count": 145,
   "metadata": {},
   "outputs": [
    {
     "data": {
      "text/plain": [
       "6"
      ]
     },
     "execution_count": 145,
     "metadata": {},
     "output_type": "execute_result"
    }
   ],
   "source": [
    "# quantify water can be held by a set of histogram bars\n",
    "a = [0, 1, 0, 2, 1, 0,1, 3, 2, 1, 2, 1]\n",
    "\n",
    "def water(a):\n",
    "    left=0\n",
    "    right=0\n",
    "    total=0\n",
    "    for i in range(1, len(a)-1):\n",
    "        for m in range(i):\n",
    "            left=max(left, a[m])\n",
    "        for n in range(i+1,len(a)):\n",
    "            right=max(right, a[n])\n",
    "        total+=min(left, right)-a[i]\n",
    "    return total\n",
    "water(a)\n"
   ]
  },
  {
   "cell_type": "code",
   "execution_count": null,
   "metadata": {},
   "outputs": [],
   "source": []
  },
  {
   "cell_type": "code",
   "execution_count": 124,
   "metadata": {},
   "outputs": [
    {
     "name": "stdout",
     "output_type": "stream",
     "text": [
      "f\n",
      "l\n"
     ]
    },
    {
     "data": {
      "text/plain": [
       "['f', 'l']"
      ]
     },
     "execution_count": 124,
     "metadata": {},
     "output_type": "execute_result"
    }
   ],
   "source": [
    "#Case 6: Write a function to find the longest common prefix string amongst an array of strings.\n",
    "\n",
    "a=[\"flower\",\"flow\",\"flight\"]\n",
    "#Output: \"fl\"\n",
    "    \n",
    "def com(a):\n",
    "    a.sort(reverse=True)\n",
    "    holder=[]\n",
    "    for i in range(len(a[-1])):\n",
    "        \n",
    "        if a[-1][i]==a[0][i]:\n",
    "            print(a[-1][i])\n",
    "            holder.append(a[-1][i])\n",
    "        else:\n",
    "            break\n",
    "    return holder\n",
    "com(a)"
   ]
  },
  {
   "cell_type": "code",
   "execution_count": null,
   "metadata": {},
   "outputs": [],
   "source": []
  },
  {
   "cell_type": "code",
   "execution_count": 200,
   "metadata": {},
   "outputs": [
    {
     "data": {
      "text/plain": [
       "['code', 'practice', 'a', 'quiz', 'geeks']"
      ]
     },
     "execution_count": 200,
     "metadata": {},
     "output_type": "execute_result"
    }
   ],
   "source": [
    "# Reverse words in a given String in Python\n",
    "a = \"geeks quiz a practice code\"\n",
    "b=a.split\n",
    "# reverse a string a[::-1]\n",
    "x=reversed(a.split())\n",
    "list(x)"
   ]
  },
  {
   "cell_type": "code",
   "execution_count": 202,
   "metadata": {},
   "outputs": [
    {
     "name": "stdout",
     "output_type": "stream",
     "text": [
      "['code', 'practice', 'a', 'quiz', 'geeks']\n",
      "code practice a quiz geeks\n"
     ]
    }
   ],
   "source": [
    "x=a.split()\n",
    "for i in range(len(x)//2):\n",
    "    x[i], x[len(x)-1-i]=x[len(x)-1-i], x[i]\n",
    "print(x)\n",
    "print(' '.join(x))\n"
   ]
  },
  {
   "cell_type": "code",
   "execution_count": 206,
   "metadata": {},
   "outputs": [
    {
     "data": {
      "text/plain": [
       "[\"s'teL\", 'ekat', 'edoCteeL', 'tsetnoc']"
      ]
     },
     "execution_count": 206,
     "metadata": {},
     "output_type": "execute_result"
    }
   ],
   "source": [
    "a=\"Let's take LeetCode contest\"\n",
    "#Output: \"s'teL ekat edoCteeL tsetnoc\"\n",
    "def rev(a):\n",
    "    holder=[]\n",
    "    b=a.split()\n",
    "    for i in b:\n",
    "        ele=i[::-1]\n",
    "        holder.append(ele)\n",
    "    return holder\n",
    "rev(a)"
   ]
  },
  {
   "cell_type": "code",
   "execution_count": null,
   "metadata": {},
   "outputs": [],
   "source": [
    "customer obssessoin: a time you think about our customer needs \n",
    "    and design a solution that take your customer's needs as primary concern\n",
    "two examples: \n",
    "    1. modify reports \n",
    "    2. desined dashboard imagine what they want to know, what would be interesting, and was shared with vp even \n",
    "    at its 1st version. was highly recornized. as answered many primary concerns."
   ]
  },
  {
   "cell_type": "code",
   "execution_count": null,
   "metadata": {},
   "outputs": [],
   "source": [
    "think of a time that something was just not good enough and you made it better -- regional report, most subscribed and branded me 1st stop for informaiton\n",
    "do you have any big idea? - applying ML methods in work, has resolution on its use. 2.encourage my wife go to med school when she was lost\n",
    "earn trust.- good listener, love to help."
   ]
  }
 ],
 "metadata": {
  "kernelspec": {
   "display_name": "Python 3",
   "language": "python",
   "name": "python3"
  },
  "language_info": {
   "codemirror_mode": {
    "name": "ipython",
    "version": 3
   },
   "file_extension": ".py",
   "mimetype": "text/x-python",
   "name": "python",
   "nbconvert_exporter": "python",
   "pygments_lexer": "ipython3",
   "version": "3.7.4"
  }
 },
 "nbformat": 4,
 "nbformat_minor": 2
}
